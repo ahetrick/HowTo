{
 "cells": [
  {
   "cell_type": "markdown",
   "metadata": {},
   "source": [
    "# Learning Datalog; or why predicate logic is (actually, I promise) important"
   ]
  },
  {
   "cell_type": "markdown",
   "metadata": {},
   "source": [
    "## A cheat sheet, *because it shouldn't be that hard*"
   ]
  },
  {
   "cell_type": "markdown",
   "metadata": {},
   "source": [
    "### Introduction\n",
    "\n",
    "Datalog is a piece of software that uses predicate logic. I learned it in my data cleaning class, and I've helped teach it in CS 513: Theory and Practice of Data Cleaning, which is offered by the University of Illinois at Urbana-Champaign through Coursera.\n",
    "\n",
    "Datalog is...well, it's unpopular with students. This is unfortunate because Datalog is both a lot of fun and, especially, very useful for people working in data science and analytics.\n",
    "\n",
    "It may seem old-fashioned, but Datalog teaches invaluable skills. Even if employers don't ask for Datalog by name (and they likely won't), Datalog helps further and enrich skills in SQL, relational databases, and information integrity. It does so because these skills are primarily about logic, and that's what Datalog is--pure logic.\n",
    "\n",
    "**TL;DR**: Languages and GUIs come and go, but if you understand the logic that underpins everything, you'll be able to adapt--and quickly!--to whatever new query thing comes along."
   ]
  },
  {
   "cell_type": "markdown",
   "metadata": {},
   "source": [
    "#### DO: Installation\n",
    "\n",
    "1. Download the dlv installation file from www.dlvsystem.com. (If you're getting dlv for a class, check the class resources to be sure there isn't a package to download that already contains the installation file.) For example, there are directions specifically for CS 513. \n",
    "2. From the class resource, unzip dlv.zip.\n",
    "3. Inside the folder, find and open the dlv_binary folder. \n",
    "4. Select the binary file for your particular machine (mine is dlv-apple.bin, for example). It may look like a compressed file but DON'T attempt to unpack it.\n",
    "5. Create a new folder somewhere easily accessible (I tend to use Desktop). Name this folder something uncomplicated, like DLVInstallation. Move the binary file to the new folder.\n",
    "6. Rename the binary file to just \"dlv\" (without the quotes). \n",
    "7. From dlv.zip (the compressed file originally downloaded from Coursera), move family.facts.dlv, publication.facts.dlv, family.dlv, and publication.dlv over to DLVInstallation.\n",
    "8. Open your terminal and navigate to DLVInstallation (for me, it was cd Desktop, then cd DLVInstallation).\n",
    "9. From inside DLVInstallation, type ./dlv as a command to execute any dlv program. To execute family.facts.dlv, for instance, I entered: ./dlv family.facts.dlv"
   ]
  },
  {
   "cell_type": "markdown",
   "metadata": {},
   "source": [
    "### Three Tips\n",
    "\n",
    "#### break it down\n",
    "\n",
    "Humans are smart. Our brains can hold multiple thoughts--sometimes conflicting--in our heads at the same time. We make associations between things and we're able to relate things and uncouple things very, very **quickly**. But Datalog? Not really. As such, you need to break thoughts down into chunks for it to then process. A Datalog rule is closer to a procedural bit of programming than it is to the human thought process.\n",
    "\n",
    "So slow it down.\n",
    "\n",
    "#### translate the language\n",
    "\n",
    "Learning how something is spoken about can often be harder than learning the thing itself. Datalog is no different. But it's a pretty easy fix to do a little bit of translation work!\n",
    "\n",
    "Here's my attempt to clarify three things that students consistently find confusing.\n",
    "\n",
    "* Rules are **queries**\n",
    "* A rule is comprised of **two parts**: the head (or everything before the \":-\") and the body (or everything after the \":-\")\n",
    "    * FOR SQL USERS: In a Datalog rule, the body is like the FROM and WHERE clauses, while the head is like the SELECT clause.\n",
    "* A rule is \"unsafe\" **when you ask for something in the head that isn't in the body**. Essentially, if it doesn't exist, you can't ask for it\n",
    "\n",
    "#### say it out loud as a sentence\n",
    "\n",
    "You should be able to say your Datalog rule as a complete sentence. And it should make logical, almost ridiculously common-sensical sense. Example:\n",
    "\n",
    "sibling(X,Y) :- parent(P, X), parent(P, Y), X != Y. \n",
    "\n",
    "* Sentence (how robots talk): if P is the parent of X, and that same P is the parent of Y, and X is not the same as Y, then X is the sibling of Y, and Y is the sibling of X. \n",
    "\n",
    "* Sentence (how people talk): X and Y are siblings because they share the same parent. "
   ]
  },
  {
   "cell_type": "markdown",
   "metadata": {},
   "source": [
    "### Examples"
   ]
  },
  {
   "cell_type": "markdown",
   "metadata": {},
   "source": [
    "Why would you use something like Datalog? The same reasons why you might use SQL, among them, making sure that necessary data exists and that there are appropriate connections between data.\n",
    "\n",
    "For example, you can use Datalog rules to retrieve records based upon certain attributes:\n",
    "\n",
    "is_parent(X) :- parent(X,C). \n",
    "\n",
    "* Sentence: Here is a list of everyone who has children.\n",
    "\n",
    "We can also check on the cleanliness of our data. For example, we might want to determine if there's anyone in our database who isn't meeting a specific requirement. \n",
    "\n",
    "In the world of our database, everyone who is a person is required to have parents. Another way of saying this is that everyone in our database has to be a child of someone. So we need to check to ensure that everyone in the database is a child and we want to report back instances of people who are not children.\n",
    "\n",
    "To do this, we can first create a new relation called person(X). We add new rows to the relation--first, every X in the parent place of the parent relation, and then every X in the child place of the parent relation.\n",
    "\n",
    "person(X) :- parent(X,C).<br>\n",
    "person(X) :- parent(P,X).\n",
    "\n",
    "* Sentence: Everyone, parent or child, is a person.\n",
    "\n",
    "Then we gather just the children into a new relation called a_child.\n",
    "\n",
    "a_child(X) :- parent(Y,X).\n",
    "\n",
    "* Sentence: Every X (which is in the child place of the parent relation) is a child.\n",
    "\n",
    "Then, finally, we can ask for all of the people who are not in the a_child relation. Whoever is a person but is not a child doesn't have parents (according to our database), and those are the records we need to go in and fix.\n",
    "\n",
    "no_parents(X) :- person(X), not a_child(X).\n",
    "\n",
    "* If someone is a person but isn't in the list of children, that person doesn't have parents. We return them in the relation no_parents."
   ]
  },
  {
   "cell_type": "markdown",
   "metadata": {},
   "source": [
    "## Other resources\n",
    "\n",
    "https://docs.racket-lang.org/datalog/"
   ]
  }
 ],
 "metadata": {
  "kernelspec": {
   "display_name": "Python 3",
   "language": "python",
   "name": "python3"
  },
  "language_info": {
   "codemirror_mode": {
    "name": "ipython",
    "version": 3
   },
   "file_extension": ".py",
   "mimetype": "text/x-python",
   "name": "python",
   "nbconvert_exporter": "python",
   "pygments_lexer": "ipython3",
   "version": "3.6.5"
  }
 },
 "nbformat": 4,
 "nbformat_minor": 2
}
